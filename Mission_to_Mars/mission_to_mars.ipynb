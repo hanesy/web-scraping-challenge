{
 "cells": [
  {
   "cell_type": "code",
   "execution_count": 1,
   "metadata": {},
   "outputs": [],
   "source": [
    "# import dependencies\n",
    "from bs4 import BeautifulSoup\n",
    "\n",
    "from splinter import Browser\n",
    "\n",
    "import time\n",
    "import re\n",
    "import pandas as pd"
   ]
  },
  {
   "cell_type": "markdown",
   "metadata": {},
   "source": [
    "### NASA Mars News\n",
    "\n",
    "* Scrape the [NASA Mars News Site](https://mars.nasa.gov/news/) and collect the latest News Title and Paragraph Text. Assign the text to variables that you can reference later."
   ]
  },
  {
   "cell_type": "code",
   "execution_count": 2,
   "metadata": {},
   "outputs": [
    {
     "name": "stdout",
     "output_type": "stream",
     "text": [
      "Latest News\n",
      "---\n",
      "NASA's Mars Reconnaissance Orbiter Undergoes Memory Update\n",
      "---\n",
      "Other orbiters will continue relaying data from Mars surface missions for a two-week period.\n"
     ]
    }
   ],
   "source": [
    "#using splinter browser\n",
    "executable_path = {'executable_path': 'chromedriver.exe'}\n",
    "browser_news = Browser('chrome', **executable_path, headless=False)\n",
    "\n",
    "#visit page\n",
    "url_news = 'https://mars.nasa.gov/news/'\n",
    "browser_news.visit(url_news)\n",
    "\n",
    "# delay to make sure the browser runs before the soup\n",
    "time.sleep(3)\n",
    "html = browser_news.html\n",
    "soup_news = BeautifulSoup(html, 'html.parser')\n",
    "\n",
    "#retrieve latest news title\n",
    "title_results = soup_news.find_all('div', class_='content_title')\n",
    "news_title = title_results[0].text.strip()\n",
    "\n",
    "#retieve latest news paragraph text\n",
    "paragraph_results = soup_news.find_all('div', class_='article_teaser_body')\n",
    "news_p = paragraph_results[0].text.strip()\n",
    "\n",
    "print(f\"\"\"Latest News\n",
    "---\n",
    "{news_title}\n",
    "---\n",
    "{news_p}\"\"\")\n",
    "\n",
    "browser_news.quit()"
   ]
  },
  {
   "cell_type": "markdown",
   "metadata": {},
   "source": [
    "### JPL Mars Space Images - Featured Image\n",
    "\n",
    "* Visit the url for JPL Featured Space Image [here](https://www.jpl.nasa.gov/spaceimages/?search=&category=Mars).\n",
    "\n",
    "* Use splinter to navigate the site and find the image url for the current Featured Mars Image and assign the url string to a variable called `featured_image_url`.\n",
    "\n",
    "* Make sure to find the image url to the full size `.jpg` image.\n",
    "\n",
    "* Make sure to save a complete url string for this image."
   ]
  },
  {
   "cell_type": "code",
   "execution_count": 3,
   "metadata": {},
   "outputs": [
    {
     "name": "stdout",
     "output_type": "stream",
     "text": [
      "https://www.jpl.nasa.gov/spaceimages/images/wallpaper/PIA20057-1920x1200.jpg\n"
     ]
    }
   ],
   "source": [
    "#using splinter browser\n",
    "executable_path = {'executable_path': 'chromedriver.exe'}\n",
    "browser_image = Browser('chrome', **executable_path, headless=False)\n",
    "\n",
    "#visit page\n",
    "base_url = 'https://www.jpl.nasa.gov'\n",
    "search_url = '/spaceimages/?search=&category=Mars'\n",
    "url_image = base_url+search_url\n",
    "browser_image.visit(url_image)\n",
    "\n",
    "# delay to make sure the browser runs before the soup\n",
    "time.sleep(3)\n",
    "html = browser_image.html\n",
    "soup_image = BeautifulSoup(html, 'html.parser')\n",
    "\n",
    "#retrieve url\n",
    "url_search = soup_image.find_all('div', class_='carousel_container')[0].find('article')['style']\n",
    "\n",
    "# Helpful source: https://stackoverflow.com/questions/19449709/how-to-extract-string-inside-single-quotes-using-python-script\n",
    "feature_url = re.findall(r\"'(.*?)'\", url_search)[0]\n",
    "featured_image_url = base_url+feature_url\n",
    "print(featured_image_url)\n",
    "\n",
    "#close browser\n",
    "browser_image.quit()"
   ]
  },
  {
   "cell_type": "markdown",
   "metadata": {},
   "source": [
    "### Mars Weather\n",
    "\n",
    "* Visit the Mars Weather twitter account [here](https://twitter.com/marswxreport?lang=en) and scrape the latest Mars weather tweet from the page. Save the tweet text for the weather report as a variable called `mars_weather`."
   ]
  },
  {
   "cell_type": "code",
   "execution_count": 4,
   "metadata": {},
   "outputs": [
    {
     "name": "stdout",
     "output_type": "stream",
     "text": [
      "Mars Weather\n",
      "---\n",
      "InSight sol 437 (2020-02-18) low -94.7ºC (-138.5ºF) high -9.9ºC (14.1ºF) winds from the SSE at 6.2 m/s (13.8 mph) gusting to 21.6 m/s (48.3 mph) pressure at 6.30 hPa\n"
     ]
    }
   ],
   "source": [
    "#using splinter browser\n",
    "executable_path = {'executable_path': 'chromedriver.exe'}\n",
    "browser_weather = Browser('chrome', **executable_path, headless=False)\n",
    "\n",
    "#vist website\n",
    "twitter_url = 'https://twitter.com/marswxreport?lang=en'\n",
    "browser_weather.visit(twitter_url)\n",
    "\n",
    "# delay to make sure the browser runs before the soup\n",
    "time.sleep(3)\n",
    "html = browser_weather.html\n",
    "soup_twitter = BeautifulSoup(html, 'html.parser')\n",
    "\n",
    "weather_results = soup_twitter.find_all('div', class_='css-901oao r-hkyrab r-1qd0xha r-a023e6 r-16dba41 r-ad9z0x r-bcqeeo r-bnwqim r-qvutc0')\n",
    "mars_weather = weather_results[0].text.replace('\\n',' ')\n",
    "\n",
    "print (f\"\"\"Mars Weather\n",
    "---\n",
    "{mars_weather}\"\"\")\n",
    "\n",
    "#close browser\n",
    "browser_weather.quit()"
   ]
  },
  {
   "cell_type": "markdown",
   "metadata": {},
   "source": [
    "### Mars Facts\n",
    "\n",
    "* Visit the Mars Facts webpage [here](https://space-facts.com/mars/) and use Pandas to scrape the table containing facts about the planet including Diameter, Mass, etc.\n",
    "\n",
    "* Use Pandas to convert the data to a HTML table string."
   ]
  },
  {
   "cell_type": "code",
   "execution_count": 5,
   "metadata": {},
   "outputs": [],
   "source": [
    "#read website with pandas\n",
    "facts_url = 'https://space-facts.com/mars/'\n",
    "facts_table = pd.read_html(facts_url)\n",
    "\n",
    "#extract table and clean\n",
    "df = facts_table[0]\n",
    "df.columns = ['Description', 'Value']\n",
    "# df.set_index('Description', inplace=True)\n",
    "\n",
    "#table to html in html_table variable\n",
    "html_table = df.to_html(classes='', border=False, index=False)\n",
    "html_table = html_table.replace('\\n', '')\n",
    "\n",
    "# extract df to table.html\n",
    "df.to_html('table.html')"
   ]
  },
  {
   "cell_type": "code",
   "execution_count": 6,
   "metadata": {},
   "outputs": [
    {
     "data": {
      "text/plain": [
       "'<table border=\"False\" class=\"dataframe\">  <thead>    <tr style=\"text-align: right;\">      <th>Description</th>      <th>Value</th>    </tr>  </thead>  <tbody>    <tr>      <td>Equatorial Diameter:</td>      <td>6,792 km</td>    </tr>    <tr>      <td>Polar Diameter:</td>      <td>6,752 km</td>    </tr>    <tr>      <td>Mass:</td>      <td>6.39 × 10^23 kg (0.11 Earths)</td>    </tr>    <tr>      <td>Moons:</td>      <td>2 (Phobos &amp; Deimos)</td>    </tr>    <tr>      <td>Orbit Distance:</td>      <td>227,943,824 km (1.38 AU)</td>    </tr>    <tr>      <td>Orbit Period:</td>      <td>687 days (1.9 years)</td>    </tr>    <tr>      <td>Surface Temperature:</td>      <td>-87 to -5 °C</td>    </tr>    <tr>      <td>First Record:</td>      <td>2nd millennium BC</td>    </tr>    <tr>      <td>Recorded By:</td>      <td>Egyptian astronomers</td>    </tr>  </tbody></table>'"
      ]
     },
     "execution_count": 6,
     "metadata": {},
     "output_type": "execute_result"
    }
   ],
   "source": [
    "html_table"
   ]
  },
  {
   "cell_type": "markdown",
   "metadata": {},
   "source": [
    "### Mars Hemispheres\n",
    "\n",
    "* Visit the USGS Astrogeology site [here](https://astrogeology.usgs.gov/search/results?q=hemisphere+enhanced&k1=target&v1=Mars) to obtain high resolution images for each of Mar's hemispheres.\n",
    "\n",
    "* You will need to click each of the links to the hemispheres in order to find the image url to the full resolution image.\n",
    "\n",
    "* Save both the image url string for the full resolution hemisphere image, and the Hemisphere title containing the hemisphere name. Use a Python dictionary to store the data using the keys `img_url` and `title`.\n",
    "\n",
    "* Append the dictionary with the image url string and the hemisphere title to a list. This list will contain one dictionary for each hemisphere."
   ]
  },
  {
   "cell_type": "code",
   "execution_count": 7,
   "metadata": {},
   "outputs": [
    {
     "name": "stderr",
     "output_type": "stream",
     "text": [
      "C:\\Users\\heain\\AppData\\Local\\Continuum\\anaconda3\\envs\\PythonData\\lib\\site-packages\\splinter\\driver\\webdriver\\__init__.py:528: FutureWarning: browser.find_link_by_partial_text is deprecated. Use browser.links.find_by_partial_text instead.\n",
      "  FutureWarning,\n"
     ]
    },
    {
     "data": {
      "text/plain": [
       "[{'title': 'Cerberus Hemisphere',\n",
       "  'img_url': 'https://astrogeology.usgs.gov/cache/images/cfa62af2557222a02478f1fcd781d445_cerberus_enhanced.tif_full.jpg'},\n",
       " {'title': 'Schiaparelli Hemisphere',\n",
       "  'img_url': 'https://astrogeology.usgs.gov/cache/images/3cdd1cbf5e0813bba925c9030d13b62e_schiaparelli_enhanced.tif_full.jpg'},\n",
       " {'title': 'Syrtis Major Hemisphere',\n",
       "  'img_url': 'https://astrogeology.usgs.gov/cache/images/ae209b4e408bb6c3e67b6af38168cf28_syrtis_major_enhanced.tif_full.jpg'},\n",
       " {'title': 'Valles Marineris Hemisphere',\n",
       "  'img_url': 'https://astrogeology.usgs.gov/cache/images/7cf2da4bf549ed01c17f206327be4db7_valles_marineris_enhanced.tif_full.jpg'}]"
      ]
     },
     "execution_count": 7,
     "metadata": {},
     "output_type": "execute_result"
    }
   ],
   "source": [
    "#using splinter browser\n",
    "executable_path = {'executable_path': 'chromedriver.exe'}\n",
    "browser_hemisphere = Browser('chrome', **executable_path, headless=False)\n",
    "\n",
    "# visit page\n",
    "base_url = 'https://astrogeology.usgs.gov'\n",
    "search_url = '/search/results?q=hemisphere+enhanced&k1=target&v1=Mars'\n",
    "hemisphere_url = base_url+search_url\n",
    "browser_hemisphere.visit(hemisphere_url)\n",
    "\n",
    "# delay to make sure the browser runs before the soup\n",
    "time.sleep(3)\n",
    "html = browser_hemisphere.html\n",
    "soup_hemisphere = BeautifulSoup(html, 'html.parser')\n",
    "\n",
    "#obtain list of hemisphere related html\n",
    "hem_items = soup_hemisphere.find_all('div', class_='item')\n",
    "\n",
    "#set up list for saving hemisphere dictionaries\n",
    "hemisphere_image_urls = []\n",
    "\n",
    "#iterating through each hemisphere\n",
    "for item in hem_items:\n",
    "    \n",
    "#set up dictionary for title and img_url\n",
    "    hem_dict = {}\n",
    "    \n",
    "    #find hemisphere name\n",
    "    hem_name = item.find('h3').text\n",
    "    \n",
    "    #clean and store title\n",
    "    h_img_title = hem_name.split(' Enhanced')[0]\n",
    "    hem_dict['title']= h_img_title \n",
    "    \n",
    "    #navigate to specific site to retrieve image\n",
    "    browser_hemisphere.click_link_by_partial_text(hem_name)\n",
    "\n",
    "    # delay to make sure the browser runs before the soup for hemisphere page\n",
    "    time.sleep(3)\n",
    "    html = browser_hemisphere.html\n",
    "    soup = BeautifulSoup(html, 'html.parser')\n",
    "    \n",
    "    # retrieve image\n",
    "    hem_img = soup.find_all('img', class_='wide-image')\n",
    "    h_img_url = hem_img[0]['src']\n",
    "    h_img_url_full = base_url + h_img_url\n",
    "    hem_dict['img_url']= h_img_url_full\n",
    "    \n",
    "    #add to list\n",
    "    hemisphere_image_urls.append(hem_dict)\n",
    "    \n",
    "    #get back to main page\n",
    "    browser_hemisphere.back()\n",
    "\n",
    "browser_hemisphere.quit()\n",
    "\n",
    "hemisphere_image_urls "
   ]
  }
 ],
 "metadata": {
  "kernelspec": {
   "display_name": "Python 3.7.5 64-bit ('PythonData': conda)",
   "language": "python",
   "name": "python37564bitpythondataconda93b4aacbe3a94029a49f9aca4966340b"
  },
  "language_info": {
   "codemirror_mode": {
    "name": "ipython",
    "version": 3
   },
   "file_extension": ".py",
   "mimetype": "text/x-python",
   "name": "python",
   "nbconvert_exporter": "python",
   "pygments_lexer": "ipython3",
   "version": "3.7.5"
  }
 },
 "nbformat": 4,
 "nbformat_minor": 2
}
